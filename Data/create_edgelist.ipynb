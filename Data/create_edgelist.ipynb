{
 "cells": [
  {
   "cell_type": "code",
   "execution_count": null,
   "metadata": {
    "collapsed": true
   },
   "outputs": [],
   "source": [
    "from rdflib.graph import Graph\n",
    "import rdflib.plugins.sparql as spq\n",
    "import pickle\n",
    "from rdflib.namespace import XSD\n",
    "from rdflib.term import Literal\n",
    "from rdflib import Namespace\n",
    "import unicodedata\n",
    "import json\n",
    "from rdflib.term import URIRef\n",
    "import urllib\n",
    "import itertools"
   ]
  },
  {
   "cell_type": "code",
   "execution_count": null,
   "metadata": {
    "collapsed": true
   },
   "outputs": [],
   "source": [
    "DBLP_FILE_NAME = \"dblp/dblp_dataset_all_1_deg.nt\"\n",
    "g = Graph()\n",
    "g.parse(DBLP_FILE_NAME, format=\"ttl\")"
   ]
  },
  {
   "cell_type": "code",
   "execution_count": null,
   "metadata": {
    "collapsed": true
   },
   "outputs": [],
   "source": [
    "PURL = { 'title': URIRef(\"http://purl.org/dc/elements/1.1/title\"), 'issued': URIRef(\"http://purl.org/dc/elements/1.1/issued\"), 'place': URIRef(\"http://purl.org/dc/elements/1.1/publisher\")}\n",
    "XMLNS = {'maker': URIRef(\"http://xmlns.com/foaf/0.1/maker\"), 'name': URIRef(\"http://xmlns.com/foaf/0.1/name\"), 'made': URIRef(\"http://xmlns.com/foaf/0.1/made\")}"
   ]
  },
  {
   "cell_type": "code",
   "execution_count": null,
   "metadata": {
    "collapsed": true
   },
   "outputs": [],
   "source": [
    "query = \"\"\"\n",
    "SELECT ?author ?paper WHERE {\n",
    "    ?paper <http://xmlns.com/foaf/0.1/maker> ?author\n",
    "}\n",
    "\"\"\""
   ]
  },
  {
   "cell_type": "code",
   "execution_count": null,
   "metadata": {
    "collapsed": true
   },
   "outputs": [],
   "source": [
    "id_counter = 0;\n",
    "authors = dict()\n",
    "papers = dict()\n",
    "edge_list = list()\n",
    "for row in g.query(query):\n",
    "    if row[0] not in authors:\n",
    "        authors[row[0]] = id_counter\n",
    "        id_counter += 1\n",
    "    if row[1] not in papers:\n",
    "        papers[row[1]] = id_counter\n",
    "        id_counter += 1\n",
    "    edge_list.append((papers[row[1]], authors[row[0]]))"
   ]
  },
  {
   "cell_type": "code",
   "execution_count": null,
   "metadata": {
    "collapsed": true
   },
   "outputs": [],
   "source": [
    "edge_list.sort()"
   ]
  },
  {
   "cell_type": "code",
   "execution_count": null,
   "metadata": {
    "collapsed": true
   },
   "outputs": [],
   "source": [
    "EDGE_FILE_NAME = 'dblp_all_1_deg.edges'\n",
    "with open(EDGE_FILE_NAME, 'w') as out_file:\n",
    "    for src, dst in edge_list:\n",
    "        out_file.write(str(src) + \"\\t\" + str(dst) + \"\\n\")\n",
    "    "
   ]
  },
  {
   "cell_type": "code",
   "execution_count": null,
   "metadata": {
    "collapsed": true
   },
   "outputs": [],
   "source": [
    "AUTHOR_FILE_NAME = 'dblp_all_1_authors.nodes'\n",
    "with open(AUTHOR_FILE_NAME, 'w') as out_file:\n",
    "    json.dump(authors, out_file)\n",
    "        "
   ]
  },
  {
   "cell_type": "code",
   "execution_count": null,
   "metadata": {
    "collapsed": true
   },
   "outputs": [],
   "source": [
    "PAPER_FILE_NAME = 'dblp_all_1_papers.nodes'\n",
    "with open(PAPER_FILE_NAME, 'w') as out_file:\n",
    "    json.dump(papers, out_file)\n",
    "        "
   ]
  }
 ],
 "metadata": {
  "kernelspec": {
   "display_name": "Python 2",
   "language": "python",
   "name": "python2"
  },
  "language_info": {
   "codemirror_mode": {
    "name": "ipython",
    "version": 2
   },
   "file_extension": ".py",
   "mimetype": "text/x-python",
   "name": "python",
   "nbconvert_exporter": "python",
   "pygments_lexer": "ipython2",
   "version": "2.7.6"
  }
 },
 "nbformat": 4,
 "nbformat_minor": 1
}
