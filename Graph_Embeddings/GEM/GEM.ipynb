{
 "cells": [
  {
   "cell_type": "code",
   "execution_count": 16,
   "metadata": {
    "collapsed": false
   },
   "outputs": [],
   "source": [
    "import matplotlib.pyplot as plt\n",
    "\n",
    "from gem.utils import graph_util, plot_util\n",
    "from gem.evaluation import visualize_embedding as viz\n",
    "from gem.evaluation import evaluate_graph_reconstruction as gr\n",
    "from time import time\n",
    "\n",
    "from gem.embedding.gf       import GraphFactorization\n",
    "from gem.embedding.hope     import HOPE\n",
    "from gem.embedding.lap      import LaplacianEigenmaps\n",
    "from gem.embedding.lle      import LocallyLinearEmbedding\n",
    "from gem.embedding.node2vec import node2vec\n",
    "# from gem.embedding.sdne     import SDNE\n",
    "\n",
    "# File that contains the edges. Format: source target\n",
    "# Optionally, you can add weights as third column: source target weight\n",
    "edge_f = 'gem/data/dblp_all_1_deg.edges'\n",
    "# Specify whether the edges are directed\n",
    "isDirected = True\n",
    "\n",
    "# Load graph\n",
    "G = graph_util.loadGraphFromEdgeListTxt(edge_f, directed=isDirected)\n",
    "G = G.to_directed()\n"
   ]
  },
  {
   "cell_type": "code",
   "execution_count": null,
   "metadata": {
    "collapsed": false
   },
   "outputs": [
    {
     "name": "stdout",
     "output_type": "stream",
     "text": [
      "Num nodes: 5072199, num edges: 10688170\n"
     ]
    }
   ],
   "source": [
    "\n",
    "models = []\n",
    "# You can comment out the methods you don't want to run\n",
    "# models.append(GraphFactorization(d=2, max_iter=100000, eta=1*10**-4, regu=1.0))\n",
    "# models.append(HOPE(d=4, beta=0.01))\n",
    "# models.append(LaplacianEigenmaps(d=2))\n",
    "# models.append(LocallyLinearEmbedding(d=2))\n",
    "models.append(node2vec(d=500, max_iter=1, walk_len=80, num_walks=10, con_size=10, ret_p=1, inout_p=1))\n",
    "# models.append(SDNE(d=2, beta=5, alpha=1e-5, nu1=1e-6, nu2=1e-6, K=3,n_units=[50, 15,], rho=0.3, n_iter=50, xeta=0.01,n_batch=500,\n",
    "#                 modelfile=['./intermediate/enc_model.json', './intermediate/dec_model.json'],\n",
    "#                 weightfile=['./intermediate/enc_weights.hdf5', './intermediate/dec_weights.hdf5']))\n",
    "\n",
    "for embedding in models:\n",
    "    print ('Num nodes: %d, num edges: %d' % (G.number_of_nodes(), G.number_of_edges()))\n",
    "    t1 = time()\n",
    "    # Learn embedding - accepts a networkx graph or file with edge list\n",
    "    Y, t = embedding.learn_embedding(graph=G, edge_f=None, is_weighted=True, no_python=True)\n",
    "    X = embedding.get_embedding()\n",
    "    ndarray.dump(open(\"embedding_\"+embedding.get_method_name()+\"_500.txt\",\"w\"))\n",
    "\n",
    "    print (embedding._method_name+':\\n\\tTraining time: %f' % (time() - t1))\n",
    "    # Evaluate on graph reconstruction\n",
    "#     MAP, prec_curv, err, err_baseline = gr.evaluateStaticGraphReconstruction(G, embedding, Y, None)\n",
    "    # Visualize\n",
    "#     viz.plot_embedding2D(embedding.get_embedding(), di_graph=G, node_colors=None)\n",
    "#     plt.show()"
   ]
  },
  {
   "cell_type": "code",
   "execution_count": 29,
   "metadata": {
    "collapsed": false
   },
   "outputs": [],
   "source": [
    "from numpy import ndarray\n",
    "ndarray.dump(X,open(\"embedding_\"+embedding.get_method_name()+\".txt\",\"wb\"))\n"
   ]
  },
  {
   "cell_type": "code",
   "execution_count": 30,
   "metadata": {
    "collapsed": true
   },
   "outputs": [],
   "source": [
    "# Confusion Matrix\n",
    "def plot_confusion_matrix(cm, score):\n",
    "    plt.figure(figsize=(9,9))\n",
    "    sns.heatmap(cm, annot=True, fmt=\".3f\", linewidths=.5, square = True, cmap = 'Blues_r');\n",
    "    plt.ylabel('Actual label');\n",
    "    plt.xlabel('Predicted label');\n",
    "    all_sample_title = 'Accuracy Score: {0}'.format(score)\n",
    "    plt.title(all_sample_title, size = 15);"
   ]
  },
  {
   "cell_type": "code",
   "execution_count": 32,
   "metadata": {
    "collapsed": false
   },
   "outputs": [],
   "source": [
    "import matplotlib.pyplot as plt\n",
    "import seaborn as sns\n",
    "from sklearn import metrics\n",
    "from sklearn.metrics import average_precision_score\n",
    "from sklearn.metrics import precision_recall_curve\n",
    "from sklearn.metrics import f1_score\n",
    "from sklearn.metrics import confusion_matrix\n",
    "from sklearn.metrics import recall_score, precision_score\n",
    "from sklearn.svm import SVC\n",
    "from sklearn.linear_model import LogisticRegression\n",
    "from sklearn.neural_network import MLPClassifier\n",
    "from sklearn.model_selection import train_test_split\n"
   ]
  },
  {
   "cell_type": "code",
   "execution_count": 33,
   "metadata": {
    "collapsed": true
   },
   "outputs": [],
   "source": [
    "# SVM\n",
    "from sklearn.linear_model import LogisticRegression\n",
    "def SVM(X_train, y_train, X_test, y_test, C):    \n",
    "    svm = SVC(C=C)\n",
    "    svm.fit(X_train, y_train)\n",
    "    y_train_predicted = svm.predict(X_train)\n",
    "    y_test_predicted = svm.predict(X_test)\n",
    "    train_cm = confusion_matrix(y_pred=y_train_predicted, y_true=y_train)\n",
    "    train_score = svm.score(X_train, y_train)\n",
    "    test_cm = confusion_matrix(y_pred=y_test_predicted, y_true=y_test)\n",
    "    test_score = svm.score(X_test, y_test)\n",
    "    train_average_precision = average_precision_score(y_train, y_train_predicted)\n",
    "    test_average_precision = precision_score(y_test, y_test_predicted)\n",
    "    precision, recall, _ = precision_recall_curve(y_test, y_test_predicted)\n",
    "    test_average_recall = recall_score(y_test, y_test_predicted)\n",
    "    test_f1_score = f1_score(y_test, y_test_predicted)\n",
    "    print(\"Precision: \"+str(precision))\n",
    "    print(\"Recall: \"+str(recall))\n",
    "    print(\"F1-Score: \"+str(test_f1_score))\n",
    "    print(\"Precision: \"+str(test_average_precision))\n",
    "    print(\"Recall: \"+str(test_average_recall))\n",
    "    plot_confusion_matrix(test_cm, test_score)\n",
    "    "
   ]
  },
  {
   "cell_type": "code",
   "execution_count": 34,
   "metadata": {
    "collapsed": true
   },
   "outputs": [],
   "source": [
    "# Logistic Regression\n",
    "def LG(X_train, y_train, X_test, y_test, C):    \n",
    "    lg = LogisticRegression(C=C)\n",
    "    lg.fit(X_train, y_train)\n",
    "    y_train_predicted = lg.predict(X_train)\n",
    "    y_test_predicted = lg.predict(X_test)\n",
    "    train_cm = confusion_matrix(y_pred=y_train_predicted, y_true=y_train)\n",
    "    train_score = lg.score(X_train, y_train)\n",
    "    test_cm = confusion_matrix(y_pred=y_test_predicted, y_true=y_test)\n",
    "    test_score = lg.score(X_test, y_test)\n",
    "    train_average_precision = average_precision_score(y_train, y_train_predicted)\n",
    "    test_average_precision = precision_score(y_test, y_test_predicted)\n",
    "    precision, recall, _ = precision_recall_curve(y_test, y_test_predicted)\n",
    "    test_average_recall = recall_score(y_test, y_test_predicted)\n",
    "    test_f1_score = f1_score(y_test, y_test_predicted)\n",
    "    print(\"Precision: \"+str(precision))\n",
    "    print(\"Recall: \"+str(recall))\n",
    "    print(\"F1-Score: \"+str(test_f1_score))\n",
    "    print(\"Precision: \"+str(test_average_precision))\n",
    "    print(\"Recall: \"+str(test_average_recall))\n",
    "    plot_confusion_matrix(test_cm, test_score)\n",
    "    "
   ]
  },
  {
   "cell_type": "code",
   "execution_count": 35,
   "metadata": {
    "collapsed": true
   },
   "outputs": [],
   "source": [
    "# Neural Network\n",
    "def MLP(X_train, y_train, X_test, y_test):    \n",
    "    mlp = MLPClassifier(solver='adam', alpha=1e-10, hidden_layer_sizes=(7, 2), random_state=1, activation=\"relu\")\n",
    "    mlp.fit(X_train, y_train)\n",
    "    y_train_predicted = mlp.predict(X_train)\n",
    "    y_test_predicted = mlp.predict(X_test)\n",
    "    train_cm = confusion_matrix(y_pred=y_train_predicted, y_true=y_train)\n",
    "    train_score = mlp.score(X_train, y_train)\n",
    "    test_cm = confusion_matrix(y_pred=y_test_predicted, y_true=y_test)\n",
    "    test_score = mlp.score(X_test, y_test)\n",
    "    train_average_precision = average_precision_score(y_train, y_train_predicted)\n",
    "    test_average_precision = precision_score(y_test, y_test_predicted)\n",
    "    precision, recall, _ = precision_recall_curve(y_test, y_test_predicted)\n",
    "    test_average_recall = recall_score(y_test, y_test_predicted)\n",
    "    test_f1_score = f1_score(y_test, y_test_predicted)\n",
    "    print(\"Precision: \"+str(precision))\n",
    "    print(\"Recall: \"+str(recall))\n",
    "    print(\"F1-Score: \"+str(test_f1_score))\n",
    "    print(\"Precision: \"+str(test_average_precision))\n",
    "    print(\"Recall: \"+str(test_average_recall))\n",
    "    plot_confusion_matrix(test_cm, test_score)\n",
    "    "
   ]
  },
  {
   "cell_type": "code",
   "execution_count": 58,
   "metadata": {
    "collapsed": false
   },
   "outputs": [],
   "source": [
    "# X = np.array(X)\n",
    "# y = np.array(y)\n",
    "X_all = np.load(open(\"embedding_\"+embedding.get_method_name()+\".txt\",\"rb\"))\n"
   ]
  },
  {
   "cell_type": "code",
   "execution_count": 59,
   "metadata": {
    "collapsed": false
   },
   "outputs": [],
   "source": [
    "import json\n",
    "pairs = json.load(open(\"../../dblp/dblp_classification_all.json\"))\n",
    "node_id_to_authors = json.load(open(\"../../dblp_all_1_authors.nodes\"))\n",
    "\n",
    "X = []\n",
    "y = []\n",
    "for pair in pairs:\n",
    "    a1 = pair[0]\n",
    "    a2 = pair[1]\n",
    "    isDup = pair[2]\n",
    "    X.append(np.hstack((X_all[node_id_to_authors[a1]],X_all[node_id_to_authors[a2]])))\n",
    "    y.append(isDup)"
   ]
  },
  {
   "cell_type": "code",
   "execution_count": 62,
   "metadata": {
    "collapsed": false
   },
   "outputs": [],
   "source": [
    "X_train, X_test, y_train, y_test = train_test_split(X, y, test_size=0.33, random_state=42)"
   ]
  },
  {
   "cell_type": "code",
   "execution_count": 63,
   "metadata": {
    "collapsed": false
   },
   "outputs": [
    {
     "name": "stdout",
     "output_type": "stream",
     "text": [
      "Precision: [0.33700254 0.70149254 1.        ]\n",
      "Recall: [1.         0.05904523 0.        ]\n",
      "F1-Score: 0.10892236384704519\n",
      "Precision: 0.7014925373134329\n",
      "Recall: 0.059045226130653265\n"
     ]
    },
    {
     "data": {
      "image/png": "[encoded data removed]",
      "text/plain": [
       "<Figure size 648x648 with 2 Axes>"
      ]
     },
     "metadata": {},
     "output_type": "display_data"
    }
   ],
   "source": [
    "SVM(X_train, y_train, X_test, y_test, 100)"
   ]
  },
  {
   "cell_type": "code",
   "execution_count": 64,
   "metadata": {
    "collapsed": false
   },
   "outputs": [
    {
     "name": "stdout",
     "output_type": "stream",
     "text": [
      "Precision: [0.33700254 0.         1.        ]\n",
      "Recall: [1. 0. 0.]\n",
      "F1-Score: 0.0\n",
      "Precision: 0.0\n",
      "Recall: 0.0\n"
     ]
    },
    {
     "data": {
      "image/png": "[encoded data removed]",
      "text/plain": [
       "<Figure size 648x648 with 2 Axes>"
      ]
     },
     "metadata": {},
     "output_type": "display_data"
    }
   ],
   "source": [
    "LG(X_train, y_train, X_test, y_test, 10e5)"
   ]
  },
  {
   "cell_type": "code",
   "execution_count": 65,
   "metadata": {
    "collapsed": false
   },
   "outputs": [
    {
     "name": "stdout",
     "output_type": "stream",
     "text": [
      "Precision: [0.33700254 0.60067114 1.        ]\n",
      "Recall: [1.         0.22487437 0.        ]\n",
      "F1-Score: 0.3272394881170018\n",
      "Precision: 0.6006711409395973\n",
      "Recall: 0.22487437185929648\n"
     ]
    },
    {
     "data": {
      "image/png": "[encoded data removed]",
      "text/plain": [
       "<Figure size 648x648 with 2 Axes>"
      ]
     },
     "metadata": {},
     "output_type": "display_data"
    }
   ],
   "source": [
    "MLP(X_train, y_train, X_test, y_test)"
   ]
  },
  {
   "cell_type": "code",
   "execution_count": null,
   "metadata": {
    "collapsed": true
   },
   "outputs": [],
   "source": []
  }
 ],
 "metadata": {
  "kernelspec": {
   "display_name": "py3_new",
   "language": "python",
   "name": "py3_new"
  },
  "language_info": {
   "codemirror_mode": {
    "name": "ipython",
    "version": 3
   },
   "file_extension": ".py",
   "mimetype": "text/x-python",
   "name": "python",
   "nbconvert_exporter": "python",
   "pygments_lexer": "ipython3",
   "version": "3.4.3"
  }
 },
 "nbformat": 4,
 "nbformat_minor": 1
}
